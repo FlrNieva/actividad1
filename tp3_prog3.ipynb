{
  "nbformat": 4,
  "nbformat_minor": 0,
  "metadata": {
    "colab": {
      "provenance": []
    },
    "kernelspec": {
      "name": "python3",
      "display_name": "Python 3"
    },
    "language_info": {
      "name": "python"
    }
  },
  "cells": [
    {
      "cell_type": "markdown",
      "source": [
        "**EJERCICIO 1**"
      ],
      "metadata": {
        "id": "kx6822BD19ix"
      }
    },
    {
      "cell_type": "code",
      "source": [
        "class Persona:\n",
        "  def __init__(self, nombre=\"\", edad=None, DNI=\"\"):\n",
        "    self.nombre = nombre\n",
        "    self.edad = edad\n",
        "    self.DNI = DNI\n",
        "\n",
        "  def mostrar_datos(self):\n",
        "    print(\"Nombre:\", self.nombre)\n",
        "    print(\"Edad:\", self.edad)\n",
        "    print(\"DNI:\", self.DNI)\n",
        "\n",
        "  def es_mayor_de_edad(self):\n",
        "    if self.edad is not None and self.edad >= 18:\n",
        "      return True\n",
        "    else:\n",
        "      return False\n"
      ],
      "metadata": {
        "id": "QyTSde0j2prK"
      },
      "execution_count": null,
      "outputs": []
    },
    {
      "cell_type": "markdown",
      "source": [
        "**EJERCICIO 2**"
      ],
      "metadata": {
        "id": "2VaJsdXy19mS"
      }
    },
    {
      "cell_type": "code",
      "source": [
        "class Cuenta:\n",
        "    def __init__(self, titular, cantidad=0.0):\n",
        "        \"\"\"\n",
        "        Inicializa una nueva cuenta con un titular y una cantidad (opcional).\n",
        "        \"\"\"\n",
        "        self.titular = titular\n",
        "        self.cantidad = cantidad\n",
        "\n",
        "    def mostrar(self):\n",
        "        \"\"\"\n",
        "        Muestra los datos de la cuenta.\n",
        "        \"\"\"\n",
        "        print(f\"Titular: {self.titular}\")\n",
        "        print(f\"Cantidad: {self.cantidad:.2f} pesos\")\n",
        "\n",
        "    def ingresar(self, cantidad):\n",
        "        \"\"\"\n",
        "        Ingresa una cantidad a la cuenta. Si la cantidad es negativa, no se hará nada.\n",
        "        \"\"\"\n",
        "        if cantidad > 0:\n",
        "            self.cantidad += cantidad\n",
        "            print(f\"Se han ingresado {cantidad:.2f} pesos.\")\n",
        "        else:\n",
        "            print(\"La cantidad ingresada debe ser positiva.\")\n",
        "\n",
        "    def retirar(self, cantidad):\n",
        "        \"\"\"\n",
        "        Retira una cantidad de la cuenta. La cuenta puede estar en números rojos.\n",
        "        \"\"\"\n",
        "        self.cantidad -= cantidad\n",
        "        print(f\"Se han retirado {cantidad:.2f} pesos.\")\n",
        "\n",
        "# Crear una cuenta\n",
        "mi_cuenta = Cuenta(titular=\"Martin Morales\", cantidad=1000.0)\n",
        "mi_cuenta.mostrar()\n",
        "\n",
        "mi_cuenta.ingresar(500.0)\n",
        "mi_cuenta.retirar(200.0)\n",
        "\n",
        "mi_cuenta.mostrar()\n"
      ],
      "metadata": {
        "colab": {
          "base_uri": "https://localhost:8080/"
        },
        "id": "7lrXKvn625Ph",
        "outputId": "f8c7bf33-efcb-4b86-da94-fec510fb28ad"
      },
      "execution_count": 1,
      "outputs": [
        {
          "output_type": "stream",
          "name": "stdout",
          "text": [
            "Titular: Martin Morales\n",
            "Cantidad: 1000.00 pesos\n",
            "Se han ingresado 500.00 pesos.\n",
            "Se han retirado 200.00 pesos.\n",
            "Titular: Martin Morales\n",
            "Cantidad: 1300.00 pesos\n"
          ]
        }
      ]
    },
    {
      "cell_type": "markdown",
      "source": [
        "**EJERCICIO 3**"
      ],
      "metadata": {
        "id": "KkqqD0tU19qk"
      }
    },
    {
      "cell_type": "code",
      "source": [
        "class CuentasBancarias:\n",
        "    def __init__(self):\n",
        "        \"\"\"\n",
        "        Constructor para inicializar la lista de cuentas bancarias.\n",
        "        \"\"\"\n",
        "        self.lista_cuentas = []\n",
        "\n",
        "    def agregar_cuenta(self, cuenta):\n",
        "        \"\"\"\n",
        "        Agrega una cuenta a la lista de cuentas bancarias.\n",
        "        \"\"\"\n",
        "        self.lista_cuentas.append(cuenta)\n",
        "\n",
        "    def saldo_deudor(self):\n",
        "        \"\"\"\n",
        "        Muestra el saldo deudor total de todas las cuentas con saldo negativo.\n",
        "        \"\"\"\n",
        "        saldo_total_deudor = 0.0\n",
        "        for cuenta in self.lista_cuentas:\n",
        "            if cuenta.saldo < 0:\n",
        "                saldo_total_deudor += cuenta.saldo\n",
        "        return saldo_total_deudor\n",
        "\n",
        "    def mostrar_cuentas_negativas(self):\n",
        "        \"\"\"\n",
        "        Muestra todas las cuentas con saldo negativo y su valor adeudado.\n",
        "        \"\"\"\n",
        "        for cuenta in self.lista_cuentas:\n",
        "            if cuenta.saldo < 0:\n",
        "                print(f\"Cuenta {cuenta.numero}: Saldo adeudado ${-cuenta.saldo:.2f}\")\n",
        "\n",
        "class Cuenta:\n",
        "    def __init__(self, numero, saldo):\n",
        "        \"\"\"\n",
        "        Inicializa una cuenta bancaria con un número y saldo.\n",
        "        \"\"\"\n",
        "        self.numero = numero\n",
        "        self.saldo = saldo\n",
        "\n",
        "\n",
        "cuenta1 = Cuenta(numero=\"12345\", saldo=-1000.0)\n",
        "cuenta2 = Cuenta(numero=\"67890\", saldo=500.0)\n",
        "\n",
        "cuentas_bancarias = CuentasBancarias()\n",
        "cuentas_bancarias.agregar_cuenta(cuenta1)\n",
        "cuentas_bancarias.agregar_cuenta(cuenta2)\n",
        "\n",
        "print(f\"Saldo total deudor: ${cuentas_bancarias.saldo_deudor():.2f}\")\n",
        "cuentas_bancarias.mostrar_cuentas_negativas()\n"
      ],
      "metadata": {
        "colab": {
          "base_uri": "https://localhost:8080/"
        },
        "id": "rlzBvATC3NYx",
        "outputId": "37e061ea-ba41-45bb-d2b5-2aaa84388bb3"
      },
      "execution_count": 2,
      "outputs": [
        {
          "output_type": "stream",
          "name": "stdout",
          "text": [
            "Saldo total deudor: $-1000.00\n",
            "Cuenta 12345: Saldo adeudado $1000.00\n"
          ]
        }
      ]
    },
    {
      "cell_type": "markdown",
      "source": [
        "**EJERCICIO 4**"
      ],
      "metadata": {
        "id": "spv5zn8s19vL"
      }
    },
    {
      "cell_type": "code",
      "source": [
        "class Sublistas:\n",
        "  def obtener_sublistas(self, nums):\n",
        "    result = []\n",
        "    n = len(nums)\n",
        "\n",
        "    def backtrack(index, sublista):\n",
        "      result.append(sublista[:])\n",
        "\n",
        "      for i in range(index, n):\n",
        "        sublista.append(nums[i])\n",
        "        backtrack(i + 1, sublista)\n",
        "        sublista.pop()\n",
        "\n",
        "    backtrack(0, [])\n",
        "    return result[1:]  # Eliminar la lista vacía\n",
        "\n",
        "sublistas = Sublistas()\n",
        "nums = [4, 5, 6]\n",
        "print(sublistas.obtener_sublistas(nums))  # Salida: [[6], [5], [5, 6], [4], [4, 6], [4, 5], [4, 5, 6]]"
      ],
      "metadata": {
        "colab": {
          "base_uri": "https://localhost:8080/"
        },
        "id": "nhckB8sV3bHh",
        "outputId": "299f0381-913b-4794-cd2a-816418a9541c"
      },
      "execution_count": 3,
      "outputs": [
        {
          "output_type": "stream",
          "name": "stdout",
          "text": [
            "[[4], [4, 5], [4, 5, 6], [4, 6], [5], [5, 6], [6]]\n"
          ]
        }
      ]
    },
    {
      "cell_type": "markdown",
      "source": [
        "**EJERCICIO 5**"
      ],
      "metadata": {
        "id": "daSvc6tZ19y0"
      }
    },
    {
      "cell_type": "code",
      "source": [
        "def encontrar_par_con_suma(lista, objetivo):\n",
        "    \"\"\"\n",
        "    Encuentra un par de elementos en la lista cuya suma es igual al objetivo.\n",
        "    Devuelve las posiciones de los números que cumplen la condición.\n",
        "    \"\"\"\n",
        "    for i in range(len(lista)):\n",
        "        for j in range(i + 1, len(lista)):\n",
        "            if lista[i] + lista[j] == objetivo:\n",
        "                return i, j\n",
        "\n",
        "numeros = [10, 20, 10, 40, 50, 60, 70]\n",
        "objetivo = 50\n",
        "posicion1, posicion2 = encontrar_par_con_suma(numeros, objetivo)\n",
        "\n",
        "print(f\"Posición del primer número: {posicion1}\")\n",
        "print(f\"Posición del segundo número: {posicion2}\")\n"
      ],
      "metadata": {
        "id": "Q_I5DmvT3kDg"
      },
      "execution_count": null,
      "outputs": []
    },
    {
      "cell_type": "markdown",
      "source": [
        "**EJERCICIO 6**"
      ],
      "metadata": {
        "id": "549zbFZj1967"
      }
    },
    {
      "cell_type": "code",
      "source": [
        "class Rectangulo:\n",
        "    def __init__(self, punto_inicial=(0, 0), punto_final=(0, 0)):\n",
        "        \"\"\"\n",
        "        Constructor para crear un rectángulo con dos puntos (inicial y final).\n",
        "        Si no se envían puntos, se crean dos puntos en el origen por defecto.\n",
        "        \"\"\"\n",
        "        self.punto_inicial = punto_inicial\n",
        "        self.punto_final = punto_final\n",
        "\n",
        "    def base(self):\n",
        "        \"\"\"\n",
        "        Calcula y muestra la base del rectángulo.\n",
        "        \"\"\"\n",
        "        return abs(self.punto_final[0] - self.punto_inicial[0])\n",
        "\n",
        "    def altura(self):\n",
        "        \"\"\"\n",
        "        Calcula y muestra la altura del rectángulo.\n",
        "        \"\"\"\n",
        "        return abs(self.punto_final[1] - self.punto_inicial[1])\n",
        "\n",
        "    def area(self):\n",
        "        \"\"\"\n",
        "        Calcula y muestra el área del rectángulo.\n",
        "        \"\"\"\n",
        "        return self.base() * self.altura()\n",
        "\n",
        "# Ejemplo de uso\n",
        "punto1 = (2, 3)\n",
        "punto2 = (6, 7)\n",
        "\n",
        "mi_rectangulo = Rectangulo(punto_inicial=punto1, punto_final=punto2)\n",
        "\n",
        "print(f\"Base del rectángulo: {mi_rectangulo.base()}\")\n",
        "print(f\"Altura del rectángulo: {mi_rectangulo.altura()}\")\n",
        "print(f\"Área del rectángulo: {mi_rectangulo.area()}\")\n",
        "\n"
      ],
      "metadata": {
        "id": "I5WIjLdZ4B_H"
      },
      "execution_count": null,
      "outputs": []
    },
    {
      "cell_type": "markdown",
      "source": [
        "**EJERCICIO 7**"
      ],
      "metadata": {
        "id": "8PiluFJU19-m"
      }
    },
    {
      "cell_type": "code",
      "source": [
        "class Punto:\n",
        "    def __init__(self, x=0, y=0):\n",
        "        \"\"\"\n",
        "        Constructor para crear un punto con coordenadas X e Y.\n",
        "        Si no se recibe una coordenada, su valor será cero.\n",
        "        \"\"\"\n",
        "        self.x = x\n",
        "        self.y = y\n",
        "\n",
        "    def __str__(self):\n",
        "        \"\"\"\n",
        "        Sobreescribe el método string para mostrar el punto en formato (X,Y).\n",
        "        \"\"\"\n",
        "        return f\"({self.x},{self.y})\"\n",
        "\n",
        "    def cuadrante(self):\n",
        "        \"\"\"\n",
        "        Indica a qué cuadrante pertenece el punto.\n",
        "        \"\"\"\n",
        "        if self.x == 0 and self.y != 0:\n",
        "            return \"Sobre el eje Y\"\n",
        "        elif self.x != 0 and self.y == 0:\n",
        "            return \"Sobre el eje X\"\n",
        "        elif self.x == 0 and self.y == 0:\n",
        "            return \"Sobre el origen\"\n",
        "        elif self.x > 0 and self.y > 0:\n",
        "            return \"Primer cuadrante\"\n",
        "        elif self.x < 0 and self.y > 0:\n",
        "            return \"Segundo cuadrante\"\n",
        "        elif self.x < 0 and self.y < 0:\n",
        "            return \"Tercer cuadrante\"\n",
        "        else:\n",
        "            return \"Cuarto cuadrante\"\n",
        "\n",
        "    def vector(self, otro_punto):\n",
        "        \"\"\"\n",
        "        Calcula el vector resultante entre dos puntos.\n",
        "        \"\"\"\n",
        "        dx = otro_punto.x - self.x\n",
        "        dy = otro_punto.y - self.y\n",
        "        return Punto(dx, dy)\n",
        "\n",
        "# Ejemplo de uso\n",
        "punto1 = Punto(3, 4)\n",
        "punto2 = Punto(-2, 1)\n",
        "\n",
        "print(f\"Punto 1: {punto1}\")\n",
        "print(f\"Punto 2: {punto2}\")\n",
        "\n",
        "print(f\"Cuadrante del punto 1: {punto1.cuadrante()}\")\n",
        "print(f\"Cuadrante del punto 2: {punto2.cuadrante()}\")\n",
        "\n",
        "vector_resultante = punto1.vector(punto2)\n",
        "print(f\"Vector resultante: {vector_resultante}\")\n"
      ],
      "metadata": {
        "id": "zTkCLZBj4hxf"
      },
      "execution_count": null,
      "outputs": []
    },
    {
      "cell_type": "markdown",
      "source": [
        "**EJERCICIO 8**"
      ],
      "metadata": {
        "id": "dM6UDMNO1-DL"
      }
    },
    {
      "cell_type": "code",
      "source": [
        "class Fecha:\n",
        "    def __init__(self, dia=1, mes=1, anyo=1900):\n",
        "        self.dia = dia\n",
        "        self.mes = mes\n",
        "        self.anyo = anyo\n",
        "        self.__validar()\n",
        "\n",
        "    def anyo_bisiesto(self):\n",
        "        \"\"\"\n",
        "        Indica si el año de la fecha es bisiesto o no.\n",
        "        \"\"\"\n",
        "        return (self.anyo % 4 == 0 and (self.anyo % 100 != 0 or self.anyo % 400 == 0))\n",
        "\n",
        "    def dias_mes(self, mes):\n",
        "        \"\"\"\n",
        "        Devuelve el número de días del mes que se le indique (para el año de la fecha).\n",
        "        \"\"\"\n",
        "        dias_por_mes = [31, 28, 31, 30, 31, 30, 31, 31, 30, 31, 30, 31]\n",
        "        if mes < 1 or mes > 12:\n",
        "            return -1  # Mes inválido\n",
        "        if mes == 2 and self.anyo_bisiesto():\n",
        "            return 29\n",
        "        return dias_por_mes[mes - 1]\n",
        "\n",
        "    def __validar(self):\n",
        "        \"\"\"\n",
        "        Comprueba si la fecha es correcta (entre el 1-1-1900 y el 31-12-2050).\n",
        "        Si el día no es correcto, lo pone a 1.\n",
        "        Si el mes no es correcto, lo pone a 1.\n",
        "        Si el año no es correcto, lo pone a 1900.\n",
        "        \"\"\"\n",
        "        if self.anyo < 1900 or self.anyo > 2050:\n",
        "            self.anyo = 1900\n",
        "        if self.mes < 1 or self.mes > 12:\n",
        "            self.mes = 1\n",
        "        dias_en_mes = self.dias_mes(self.mes)\n",
        "        if self.dia < 1 or self.dia > dias_en_mes:\n",
        "            self.dia = 1\n",
        "\n",
        "    def get_dia(self):\n",
        "        return self.dia\n",
        "\n",
        "    def set_dia(self, dia):\n",
        "        self.dia = dia\n",
        "        self.__validar()\n",
        "\n",
        "    def get_mes(self):\n",
        "        return self.mes\n",
        "\n",
        "    def set_mes(self, mes):\n",
        "        self.mes = mes\n",
        "        self.__validar()\n",
        "\n",
        "    def get_anyo(self):\n",
        "        return self.anyo\n",
        "\n",
        "    def set_anyo(self, anyo):\n",
        "        self.anyo = anyo\n",
        "        self.__validar()\n",
        "\n",
        "    @staticmethod\n",
        "    def hoy():\n",
        "        \"\"\"\n",
        "        Devuelve la fecha actual.\n",
        "        \"\"\"\n",
        "        hoy = datetime.now()\n",
        "        return Fecha(hoy.day, hoy.month, hoy.year)\n",
        "\n",
        "    def corta(self):\n",
        "        \"\"\"\n",
        "        Muestra la fecha en formato corto (02-09-2003).\n",
        "        \"\"\"\n",
        "        return f\"{self.dia:02d}-{self.mes:02d}-{self.anyo}\"\n",
        "\n",
        "    def larga(self):\n",
        "        \"\"\"\n",
        "        Muestra la fecha en formato largo, empezando por el día de la semana\n",
        "        (martes 2 de septiembre de 2003).\n",
        "        \"\"\"\n",
        "        fecha_dt = datetime(self.anyo, self.mes, self.dia)\n",
        "        dias_semana = [\"lunes\", \"martes\", \"miércoles\", \"jueves\", \"viernes\", \"sábado\", \"domingo\"]\n",
        "        dia_semana = dias_semana[fecha_dt.weekday()]\n",
        "        meses = [\"enero\", \"febrero\", \"marzo\", \"abril\", \"mayo\", \"junio\", \"julio\", \"agosto\", \"septiembre\", \"octubre\", \"noviembre\", \"diciembre\"]\n",
        "        nombre_mes = meses[self.mes - 1]\n",
        "        return f\"{dia_semana} {self.dia} de {nombre_mes} de {self.anyo}\"\n",
        "\n",
        "# Ejemplo de uso\n",
        "fecha1 = Fecha(2, 9, 2003)\n",
        "print(fecha1.corta())"
      ],
      "metadata": {
        "colab": {
          "base_uri": "https://localhost:8080/"
        },
        "id": "SW6DwFox5E-_",
        "outputId": "f201d572-c035-4a80-cdca-3c7bf4cd5153"
      },
      "execution_count": 8,
      "outputs": [
        {
          "output_type": "stream",
          "name": "stdout",
          "text": [
            "02-09-2003\n"
          ]
        }
      ]
    },
    {
      "cell_type": "markdown",
      "source": [
        "**EJERCICIO 9**"
      ],
      "metadata": {
        "id": "asRv6PX21-HK"
      }
    },
    {
      "cell_type": "code",
      "source": [
        "class Entero:\n",
        "  def __init__(self, valor):\n",
        "    self.valor = valor\n",
        "\n",
        "  def __add__(self, otro):\n",
        "    if isinstance(otro, Entero):\n",
        "      return Entero(self.valor + otro.valor)\n",
        "    else:\n",
        "      raise TypeError(\"Se espera un objeto de tipo Entero.\")\n",
        "\n",
        "  def __sub__(self, otro):\n",
        "    if isinstance(otro, Entero):\n",
        "      return Entero(self.valor - otro.valor)\n",
        "    else:\n",
        "      raise TypeError(\"Se espera un objeto de tipo Entero.\")\n",
        "\n",
        "  def __mul__(self, otro):\n",
        "    if isinstance(otro, Entero):\n",
        "      return Entero(self.valor * otro.valor)\n",
        "    else:\n",
        "      raise TypeError(\"Se espera un objeto de tipo Entero.\")\n",
        "\n",
        "  def __truediv__(self, otro):\n",
        "    if isinstance(otro, Entero):\n",
        "      if otro.valor == 0:\n",
        "        print(\"Error: División por cero.\")\n",
        "        return Entero(0)\n",
        "      else:\n",
        "        return Entero(self.valor / otro.valor)\n",
        "    else:\n",
        "      raise TypeError(\"Se espera un objeto de tipo Entero.\")\n",
        "\n",
        "  def __str__(self):\n",
        "    return str(self.valor)\n",
        "\n",
        "# Ejemplo de uso\n",
        "num1 = Entero(10)\n",
        "num2 = Entero(5)\n",
        "\n",
        "suma = num1 + num2\n",
        "resta = num1 - num2\n",
        "multiplicacion = num1 * num2\n",
        "division = num1 / num2\n",
        "division_por_cero = num1 / Entero(0)\n",
        "\n",
        "print(\"Suma:\", suma)\n",
        "print(\"Resta:\", resta)\n",
        "print(\"Multiplicación:\", multiplicacion)\n",
        "print(\"División:\", division)\n",
        "print(\"División por cero:\", division_por_cero)\n"
      ],
      "metadata": {
        "colab": {
          "base_uri": "https://localhost:8080/"
        },
        "id": "uLs0M-it7eAM",
        "outputId": "3666426f-3ce7-41c5-d15f-a4eba2274a58"
      },
      "execution_count": 9,
      "outputs": [
        {
          "output_type": "stream",
          "name": "stdout",
          "text": [
            "Error: División por cero.\n",
            "Suma: 15\n",
            "Resta: 5\n",
            "Multiplicación: 50\n",
            "División: 2.0\n",
            "División por cero: 0\n"
          ]
        }
      ]
    },
    {
      "cell_type": "markdown",
      "source": [
        "**EJERCICIO 11**"
      ],
      "metadata": {
        "id": "Zo0GUBlY1-QK"
      }
    },
    {
      "cell_type": "code",
      "source": [
        "import matplotlib.pyplot as plt\n",
        "\n",
        "class Punto:\n",
        "    def __init__(self, x=0, y=0):\n",
        "        self.x = x\n",
        "        self.y = y\n",
        "\n",
        "class Rectangulo:\n",
        "    def __init__(self, punto_inicial=Punto(), punto_final=Punto()):\n",
        "        self.punto_inicial = punto_inicial\n",
        "        self.punto_final = punto_final\n",
        "\n",
        "    def base(self):\n",
        "        return abs(self.punto_final.x - self.punto_inicial.x)\n",
        "\n",
        "    def altura(self):\n",
        "        return abs(self.punto_final.y - self.punto_inicial.y)\n",
        "\n",
        "    def area(self):\n",
        "        return self.base() * self.altura()\n",
        "\n",
        "    def dibujar(self):\n",
        "        plt.plot([self.punto_inicial.x, self.punto_final.x, self.punto_final.x, self.punto_inicial.x, self.punto_inicial.x],\n",
        "                 [self.punto_inicial.y, self.punto_inicial.y, self.punto_final.y, self.punto_final.y, self.punto_inicial.y],\n",
        "                 label=\"Rectángulo\")\n",
        "        plt.xlabel(\"Eje X\")\n",
        "        plt.ylabel(\"Eje Y\")\n",
        "        plt.title(\"Dibujo del Rectángulo\")\n",
        "        plt.grid(True)\n",
        "        plt.legend()\n",
        "        plt.show()\n",
        "\n",
        "# Ejemplo de uso\n",
        "punto1 = Punto(2, 3)\n",
        "punto2 = Punto(6, 7)\n",
        "\n",
        "mi_rectangulo = Rectangulo(punto_inicial=punto1, punto_final=punto2)\n",
        "\n",
        "print(f\"Base del rectángulo: {mi_rectangulo.base()}\")\n",
        "print(f\"Altura del rectángulo: {mi_rectangulo.altura()}\")\n",
        "print(f\"Área del rectángulo: {mi_rectangulo.area()}\")\n",
        "\n",
        "mi_rectangulo.dibujar()\n"
      ],
      "metadata": {
        "colab": {
          "base_uri": "https://localhost:8080/",
          "height": 524
        },
        "id": "CVBiALXA8KST",
        "outputId": "94419ae5-ecfe-4ea2-9bce-7d678884a8fe"
      },
      "execution_count": 10,
      "outputs": [
        {
          "output_type": "stream",
          "name": "stdout",
          "text": [
            "Base del rectángulo: 4\n",
            "Altura del rectángulo: 4\n",
            "Área del rectángulo: 16\n"
          ]
        },
        {
          "output_type": "display_data",
          "data": {
            "text/plain": [
              "<Figure size 640x480 with 1 Axes>"
            ],
            "image/png": "[encoded data removed]"
          },
          "metadata": {}
        }
      ]
    },
    {
      "cell_type": "markdown",
      "source": [
        "**EJERCICIO 12**"
      ],
      "metadata": {
        "id": "2SIt7OjU1-ba"
      }
    },
    {
      "cell_type": "code",
      "source": [
        "class Monedas:\n",
        "    def __init__(self, cantidad, unidad):\n",
        "        \"\"\"\n",
        "        Constructor para crear una instancia de Monedas con cantidad y unidad monetaria.\n",
        "        \"\"\"\n",
        "        self.cantidad = cantidad\n",
        "        self.unidad = unidad\n",
        "\n",
        "    def __str__(self):\n",
        "        \"\"\"\n",
        "        Redefinición de la función __str__ para mostrar la cantidad y la unidad monetaria.\n",
        "        \"\"\"\n",
        "        return f\"{self.cantidad} {self.unidad}\"\n",
        "\n",
        "    def sumar_monedas(self, otra_moneda):\n",
        "        \"\"\"\n",
        "        Suma la cantidad de esta moneda con la cantidad de otra moneda del mismo tipo.\n",
        "        \"\"\"\n",
        "        if self.unidad == otra_moneda.unidad:\n",
        "            self.cantidad += otra_moneda.cantidad\n",
        "        else:\n",
        "            print(\"No se pueden sumar monedas de diferentes unidades.\")\n",
        "\n",
        "    def sumar_valor_distinto(self, valor):\n",
        "        \"\"\"\n",
        "        Suma un valor distinto a la cantidad de esta moneda.\n",
        "        \"\"\"\n",
        "        self.cantidad += valor\n",
        "\n",
        "# Ejemplo de uso\n",
        "moneda1 = Monedas(cantidad=100, unidad=\"USD\")\n",
        "moneda2 = Monedas(cantidad=50, unidad=\"USD\")\n",
        "\n",
        "print(f\"Moneda 1: {moneda1}\")\n",
        "print(f\"Moneda 2: {moneda2}\")\n",
        "\n",
        "moneda1.sumar_monedas(moneda2)\n",
        "print(f\"Suma de monedas: {moneda1}\")\n",
        "\n",
        "moneda1.sumar_valor_distinto(20)\n",
        "print(f\"Suma de valor distinto: {moneda1}\")\n"
      ],
      "metadata": {
        "colab": {
          "base_uri": "https://localhost:8080/"
        },
        "id": "8Hga7_DI8WrC",
        "outputId": "7b3bbf46-0a85-45fa-eaf9-68af1f83b677"
      },
      "execution_count": 13,
      "outputs": [
        {
          "output_type": "stream",
          "name": "stdout",
          "text": [
            "Moneda 1: 100 USD\n",
            "Moneda 2: 50 USD\n",
            "Suma de monedas: 150 USD\n",
            "Suma de valor distinto: 170 USD\n"
          ]
        }
      ]
    },
    {
      "cell_type": "markdown",
      "source": [
        "**EJERCICIO 13**"
      ],
      "metadata": {
        "id": "-7_TJnl11-iD"
      }
    },
    {
      "cell_type": "code",
      "source": [
        "import getpass\n",
        "\n",
        "class CorreoElectronico:\n",
        "    def __init__(self):\n",
        "        self.id = input(\"Ingrese su ID de correo: \")\n",
        "        self.dominio = input(\"Ingrese el dominio de su correo: \")\n",
        "        self.__password = self.__establecer_password()\n",
        "\n",
        "    def __establecer_password(self):\n",
        "        while True:\n",
        "            password = getpass.getpass(\"Ingrese su contraseña: \")\n",
        "            confirmar_password = getpass.getpass(\"Confirme su contraseña: \")\n",
        "            if password == confirmar_password:\n",
        "                return password\n",
        "            else:\n",
        "                print(\"Las contraseñas no coinciden. Inténtelo de nuevo.\")\n",
        "\n",
        "    def cambiar_password(self):\n",
        "        self.__password = self.__establecer_password()\n",
        "\n",
        "    def mostrar_direccion(self):\n",
        "        return f\"{self.id}@{self.dominio}\"\n",
        "\n",
        "# Ejemplo de uso\n",
        "cuenta = CorreoElectronico()\n",
        "print(\"Dirección de correo:\", cuenta.mostrar_direccion())\n",
        "# Cambiar contraseña\n",
        "cuenta.cambiar_password()\n",
        "print(\"Contraseña cambiada con éxito.\")\n"
      ],
      "metadata": {
        "id": "0mX4boeN8yKz"
      },
      "execution_count": null,
      "outputs": []
    },
    {
      "cell_type": "markdown",
      "source": [
        "**EJERCICIO 14**"
      ],
      "metadata": {
        "id": "wRkWm_di1-pb"
      }
    },
    {
      "cell_type": "code",
      "source": [
        "def crear_archivo(nombre_archivo):\n",
        "    \"\"\"Crea un archivo de texto vacío o lo sobreescribe si ya existe.\"\"\"\n",
        "    try:\n",
        "        with open(nombre_archivo, 'w') as archivo:\n",
        "            print(f\"Archivo '{nombre_archivo}' creado exitosamente.\")\n",
        "    except Exception as e:\n",
        "        print(f\"Error al crear el archivo: {e}\")\n",
        "\n",
        "def abrir_y_mostrar_contenido(nombre_archivo):\n",
        "    \"\"\"Abre un archivo de texto y muestra su contenido.\"\"\"\n",
        "    try:\n",
        "        with open(nombre_archivo, 'r') as archivo:\n",
        "            contenido = archivo.read()\n",
        "            print(f\"Contenido del archivo '{nombre_archivo}':\")\n",
        "            print(contenido)\n",
        "    except FileNotFoundError:\n",
        "        print(f\"El archivo '{nombre_archivo}' no existe.\")\n",
        "    except Exception as e:\n",
        "        print(f\"Error al abrir el archivo: {e}\")\n",
        "\n",
        "def guardar_datos(nombre_archivo, datos):\n",
        "    \"\"\"Guarda datos en un archivo de texto. Sobreescribe el archivo si ya existe.\"\"\"\n",
        "    try:\n",
        "        with open(nombre_archivo, 'w') as archivo:\n",
        "            archivo.write(datos)\n",
        "            print(f\"Datos guardados exitosamente en '{nombre_archivo}'.\")\n",
        "    except Exception as e:\n",
        "        print(f\"Error al guardar datos en el archivo: {e}\")\n",
        "\n",
        "# Ejemplo de uso\n",
        "nombre_archivo = \"ejemplo.txt\"\n",
        "\n",
        "# Crear un archivo\n",
        "crear_archivo(nombre_archivo)\n",
        "\n",
        "# Guardar datos en el archivo\n",
        "datos = \"Este es un ejemplo de contenido en el archivo.\"\n",
        "guardar_datos(nombre_archivo, datos)\n",
        "\n",
        "# Abrir y mostrar contenido del archivo\n",
        "abrir_y_mostrar_contenido(nombre_archivo)\n"
      ],
      "metadata": {
        "colab": {
          "base_uri": "https://localhost:8080/"
        },
        "id": "SXzR3RoK9dtq",
        "outputId": "f74970fe-5e1e-48d8-a2de-9f29ee3f67d0"
      },
      "execution_count": 15,
      "outputs": [
        {
          "output_type": "stream",
          "name": "stdout",
          "text": [
            "Archivo 'ejemplo.txt' creado exitosamente.\n",
            "Datos guardados exitosamente en 'ejemplo.txt'.\n",
            "Contenido del archivo 'ejemplo.txt':\n",
            "Este es un ejemplo de contenido en el archivo.\n"
          ]
        }
      ]
    },
    {
      "cell_type": "markdown",
      "source": [
        "**EJERCICIO 15**"
      ],
      "metadata": {
        "id": "klQA_bWp1-xh"
      }
    },
    {
      "cell_type": "code",
      "source": [
        "import csv\n",
        "\n",
        "def leer_csv(nombre_archivo):\n",
        "    \"\"\"Lee el archivo CSV y devuelve una lista de diccionarios con los datos.\"\"\"\n",
        "    personas = []\n",
        "    try:\n",
        "        with open(nombre_archivo, mode='r', newline='', encoding='utf-8') as archivo_csv:\n",
        "            lector = csv.reader(archivo_csv)\n",
        "            next(lector)  # Saltar el encabezado, si existe\n",
        "            for fila in lector:\n",
        "                if len(fila) == 3:\n",
        "                    dni, apellido, nombre = fila\n",
        "                    personas.append({'DNI': dni, 'Apellido': apellido, 'Nombre': nombre})\n",
        "    except FileNotFoundError:\n",
        "        print(f\"El archivo '{nombre_archivo}' no se encontró.\")\n",
        "    except Exception as e:\n",
        "        print(f\"Error al leer el archivo CSV: {e}\")\n",
        "    return personas\n",
        "\n",
        "def ordenar_personas(personas):\n",
        "    \"\"\"Ordena la lista de personas por Apellido y Nombre alfabéticamente.\"\"\"\n",
        "    return sorted(personas, key=lambda x: (x['Apellido'], x['Nombre']))\n",
        "\n",
        "def mostrar_resultado(personas):\n",
        "    \"\"\"Muestra el resultado del ordenamiento.\"\"\"\n",
        "    print(\"Lista de personas ordenadas alfabéticamente:\")\n",
        "    for persona in personas:\n",
        "        print(f\"{persona['DNI']}, {persona['Apellido']}, {persona['Nombre']}\")\n",
        "\n",
        "# Ejemplo de uso\n",
        "nombre_archivo = 'personas.csv'\n",
        "\n",
        "# Leer datos del archivo CSV\n",
        "personas = leer_csv(nombre_archivo)\n",
        "\n",
        "# Ordenar las personas\n",
        "personas_ordenadas = ordenar_personas(personas)\n",
        "\n",
        "# Mostrar el resultado\n",
        "mostrar_resultado(personas_ordenadas)\n"
      ],
      "metadata": {
        "colab": {
          "base_uri": "https://localhost:8080/"
        },
        "id": "0Iag3z5d-3Yp",
        "outputId": "d31b2e52-f88d-4d84-b061-305626f72ecf"
      },
      "execution_count": 16,
      "outputs": [
        {
          "output_type": "stream",
          "name": "stdout",
          "text": [
            "El archivo 'personas.csv' no se encontró.\n",
            "Lista de personas ordenadas alfabéticamente:\n"
          ]
        }
      ]
    },
    {
      "cell_type": "markdown",
      "source": [
        "**EJERCICIO 16**"
      ],
      "metadata": {
        "id": "VWyp4Lvh1-4b"
      }
    },
    {
      "cell_type": "code",
      "source": [
        "\n",
        "from google.colab import drive\n",
        "drive.mount('/content/drive')\n",
        "\n",
        "# Reemplaza 'ruta/a/tu/archivo.txt' con la ruta real de tu archivo en Google Drive.\n",
        "file_path = '/content/drive/My Drive/tu_archivo.txt'\n",
        "\n",
        "with open(file_path, 'r') as f:\n",
        "  contenido = f.read()\n",
        "  palabras = contenido.split()\n",
        "  num_palabras = len(palabras)\n",
        "\n",
        "print(\"El archivo contiene\", num_palabras, \"palabras.\")"
      ],
      "metadata": {
        "id": "SDrb4P8d_69n"
      },
      "execution_count": null,
      "outputs": []
    }
  ]
}